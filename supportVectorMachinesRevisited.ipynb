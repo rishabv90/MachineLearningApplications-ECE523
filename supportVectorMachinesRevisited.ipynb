{
 "cells": [
  {
   "cell_type": "markdown",
   "metadata": {},
   "source": [
    "#18th March 2020 Rishab Verma"
   ]
  },
  {
   "cell_type": "markdown",
   "metadata": {},
   "source": [
    "import sys\n",
    "!{sys.executable} -m pip install cvxopt"
   ]
  },
  {
   "cell_type": "code",
   "execution_count": 16,
   "metadata": {},
   "outputs": [],
   "source": [
    "import cvxopt as cvx\n",
    "import pandas as pd\n",
    "import numpy as np\n",
    "import matplotlib.pyplot as plt\n",
    "import warnings\n",
    "warnings.filterwarnings('ignore')\n",
    "from cvxopt import matrix\n",
    "from cvxopt import solvers\n",
    "from sklearn import svm"
   ]
  },
  {
   "cell_type": "code",
   "execution_count": 17,
   "metadata": {},
   "outputs": [],
   "source": [
    "source_train = np.genfromtxt('source_train.csv', delimiter = ',')\n",
    "source_train_x = source_train[:,0:-1] #train data of source train 200, 3 is the shape\n",
    "source_train_y = source_train[:, -1]\n",
    "#source_train_y"
   ]
  },
  {
   "cell_type": "code",
   "execution_count": 18,
   "metadata": {},
   "outputs": [],
   "source": [
    "source_test = np.genfromtxt('source_test.csv', delimiter = ',')\n",
    "source_test_x = source_test[:,0:-1] #train data of source test 200, 3 is the shape\n",
    "source_test_y = source_test[:, -1]\n",
    "#source_test_x"
   ]
  },
  {
   "cell_type": "code",
   "execution_count": 19,
   "metadata": {},
   "outputs": [],
   "source": [
    "target_train = np.genfromtxt('target_train.csv', delimiter = ',')\n",
    "target_train_x = target_train[:,0:-1] #train data of source train 200, 3 is the shape\n",
    "target_train_y = target_train[:, -1]\n",
    "#target_train_x"
   ]
  },
  {
   "cell_type": "code",
   "execution_count": 20,
   "metadata": {},
   "outputs": [],
   "source": [
    "target_test = np.genfromtxt('target_test.csv', delimiter = ',')\n",
    "target_test_x = target_test[:,0:-1] #train data of source train 200, 3 is the shape\n",
    "target_test_y = target_test[:, -1]\n",
    "#target_test_x"
   ]
  },
  {
   "cell_type": "code",
   "execution_count": 21,
   "metadata": {},
   "outputs": [
    {
     "name": "stdout",
     "output_type": "stream",
     "text": [
      "The value of Ws is : [[1.92804834 1.82099484]]\n"
     ]
    }
   ],
   "source": [
    "ws = svm.SVC(kernel='linear').fit(source_train_x, source_train_y)\n",
    "wsVal = ws.coef_  \n",
    "print(\"The value of Ws is :\" , wsVal)\n",
    "#print(wsVal)\n",
    "ws_mat=cvx.matrix(wsVal)\n",
    "wsValT = cvx.matrix(wsVal.transpose())\n"
   ]
  },
  {
   "cell_type": "code",
   "execution_count": 22,
   "metadata": {},
   "outputs": [],
   "source": [
    "targetT = cvx.matrix(target_train_x.transpose())\n",
    "mat_target_train_x = cvx.matrix(target_train_x)\n",
    "mat_target_train_y = cvx.matrix(target_train_y)\n",
    "A = cvx.matrix(np.reshape(target_train_y,(1,50))) \n",
    "g = cvx.matrix(np.append(np.identity(50), np.identity(50), axis=0))\n",
    "h = cvx.matrix(np.append(np.full((50,1),0.0),np.full((50,1),1.0),axis=0))\n",
    "s = cvx.matrix([[0],[0]])\n",
    "#A\n",
    "#len(target_train_y)\n"
   ]
  },
  {
   "cell_type": "code",
   "execution_count": 23,
   "metadata": {},
   "outputs": [],
   "source": [
    "def getPValues(y, x , xT, wsT, counter):\n",
    "    pVals = [[]]\n",
    "    for i in range(0, 50):#50 because train test y size\n",
    "        val = y[counter,:]*y[i,:]*x[counter,:]*xT[:,i]\n",
    "        pVals = np.append(pVals,val)\n",
    "    return (pVals.flatten())\n",
    "p=[]\n",
    "for i in range(0,50):\n",
    "    pVal=getPValues(mat_target_train_y,mat_target_train_x,targetT,wsValT,i)\n",
    "    p.append(pVal)\n",
    "p = cvx.matrix(np.array(p).tolist())\n",
    "    "
   ]
  },
  {
   "cell_type": "code",
   "execution_count": 24,
   "metadata": {},
   "outputs": [],
   "source": [
    "def getQValues(y, x , xT, wsT, counter):\n",
    "   qVals = []\n",
    "   aVal  = -1 *(1-(y[counter,:] * x[counter,:] * wsT))\n",
    "   qVals = np.append(qVals, aVal) \n",
    "   return qVals\n",
    "q=[]\n",
    "for i in range(0,50):\n",
    "    qVal=getQValues(mat_target_train_y,mat_target_train_x,targetT,wsValT,i)\n",
    "    q.append(qVal)\n",
    "q = cvx.matrix(np.array(np.array(q).tolist()))\n"
   ]
  },
  {
   "cell_type": "code",
   "execution_count": 27,
   "metadata": {},
   "outputs": [
    {
     "name": "stdout",
     "output_type": "stream",
     "text": [
      "     pcost       dcost       gap    pres   dres\n",
      " 0: -1.0387e+01 -6.6190e+01  6e+02  3e+00  2e+00\n",
      " 1:  4.1431e+00 -9.2442e+01  2e+02  7e-01  5e-01\n",
      " 2:  1.4519e+00 -1.7970e+01  2e+01  6e-03  5e-03\n",
      " 3: -1.6298e+00 -3.5281e+00  2e+00  2e-04  2e-04\n",
      " 4: -2.3568e+00 -3.0088e+00  7e-01  3e-05  2e-05\n",
      " 5: -2.5292e+00 -2.6563e+00  1e-01  6e-06  4e-06\n",
      " 6: -2.5700e+00 -2.5988e+00  3e-02  6e-07  5e-07\n",
      " 7: -2.5819e+00 -2.5824e+00  6e-04  6e-09  5e-09\n",
      " 8: -2.5821e+00 -2.5821e+00  6e-06  6e-11  5e-11\n",
      " 9: -2.5821e+00 -2.5821e+00  6e-08  6e-13  5e-13\n",
      "Optimal solution found.\n"
     ]
    }
   ],
   "source": [
    "sol = cvx.solvers.qp(p,q,g,h,A,cvx.matrix(0.67))\n",
    "alpha=sol['x']\n",
    "#alpha"
   ]
  },
  {
   "cell_type": "code",
   "execution_count": 31,
   "metadata": {},
   "outputs": [
    {
     "ename": "NameError",
     "evalue": "name 'Ws_mat' is not defined",
     "output_type": "error",
     "traceback": [
      "\u001b[1;31m---------------------------------------------------------------------------\u001b[0m",
      "\u001b[1;31mNameError\u001b[0m                                 Traceback (most recent call last)",
      "\u001b[1;32m<ipython-input-31-408d2284cfc8>\u001b[0m in \u001b[0;36m<module>\u001b[1;34m\u001b[0m\n\u001b[0;32m      1\u001b[0m \u001b[1;32mfor\u001b[0m \u001b[0mi\u001b[0m \u001b[1;32min\u001b[0m \u001b[0mrange\u001b[0m\u001b[1;33m(\u001b[0m\u001b[1;36m0\u001b[0m\u001b[1;33m,\u001b[0m\u001b[1;36m50\u001b[0m\u001b[1;33m)\u001b[0m\u001b[1;33m:\u001b[0m\u001b[1;33m\u001b[0m\u001b[1;33m\u001b[0m\u001b[0m\n\u001b[0;32m      2\u001b[0m     \u001b[0ms\u001b[0m \u001b[1;33m=\u001b[0m \u001b[0ms\u001b[0m \u001b[1;33m+\u001b[0m \u001b[0mA\u001b[0m\u001b[1;33m[\u001b[0m\u001b[0mi\u001b[0m\u001b[1;33m]\u001b[0m\u001b[1;33m*\u001b[0m \u001b[0malpha\u001b[0m\u001b[1;33m[\u001b[0m\u001b[0mi\u001b[0m\u001b[1;33m]\u001b[0m \u001b[1;33m*\u001b[0m \u001b[0mmat_target_train_x\u001b[0m\u001b[1;33m[\u001b[0m\u001b[0mi\u001b[0m\u001b[1;33m,\u001b[0m\u001b[1;33m:\u001b[0m\u001b[1;33m]\u001b[0m\u001b[1;33m\u001b[0m\u001b[1;33m\u001b[0m\u001b[0m\n\u001b[1;32m----> 3\u001b[1;33m \u001b[0mWt\u001b[0m\u001b[1;33m=\u001b[0m\u001b[0mWs_mat\u001b[0m\u001b[1;33m*\u001b[0m\u001b[0mB\u001b[0m \u001b[1;33m+\u001b[0m \u001b[0ms1\u001b[0m\u001b[1;33m\u001b[0m\u001b[1;33m\u001b[0m\u001b[0m\n\u001b[0m",
      "\u001b[1;31mNameError\u001b[0m: name 'Ws_mat' is not defined"
     ]
    }
   ],
   "source": [
    "\n",
    "for i in range(0,50):\n",
    "    s = s + A[i]* alpha[i] * mat_target_train_x[i,:]\n",
    "wt = Ws_mat + s1\n"
   ]
  }
 ],
 "metadata": {
  "kernelspec": {
   "display_name": "Python 3",
   "language": "python",
   "name": "python3"
  },
  "language_info": {
   "codemirror_mode": {
    "name": "ipython",
    "version": 3
   },
   "file_extension": ".py",
   "mimetype": "text/x-python",
   "name": "python",
   "nbconvert_exporter": "python",
   "pygments_lexer": "ipython3",
   "version": "3.7.4"
  }
 },
 "nbformat": 4,
 "nbformat_minor": 2
}
