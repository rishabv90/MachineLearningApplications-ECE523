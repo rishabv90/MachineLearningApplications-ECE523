{
 "cells": [
  {
   "cell_type": "code",
   "execution_count": 1,
   "metadata": {},
   "outputs": [],
   "source": [
    "import numpy as np\n",
    "\n",
    "#Used two examples to achieve the desided results. \n",
    "#expected outcome shows that the probability is somehwat close equal to the pdf defined in p variable\n",
    "\n"
   ]
  },
  {
   "cell_type": "code",
   "execution_count": 2,
   "metadata": {},
   "outputs": [
    {
     "name": "stdout",
     "output_type": "stream",
     "text": [
      "0.68 0.23 0.09\n"
     ]
    }
   ],
   "source": [
    "def sample(p):\n",
    "    X = np.random.uniform(low=0.0, high=1.0, size=100) #uniform random numbers\n",
    "    M = []\n",
    "    for i in np.nditer(X):\n",
    "       if(i <= 0.7):\n",
    "           M.append(0)\n",
    "       elif(i >0.7 and i <=0.9):#0.9 is cdf as p[0]+p[1]\n",
    "        M.append(1)\n",
    "       elif(i > 0.9 and i <= 1):#0.9 is cdf as p[0]+p[1]+p[2]\n",
    "        M.append(2)\n",
    "    \n",
    "    return M \n",
    "\n",
    "n = np.array([1,2,3])\n",
    "p = np.array([.7, .2, .1])\n",
    "M = sample(p)\n",
    "\n",
    "count0 = 0\n",
    "count1 = 0\n",
    "count2 = 0\n",
    "for i in M: \n",
    "    if i ==0: count0 +=1\n",
    "    elif i ==1:count1 +=1\n",
    "    elif i==2:count2 +=1\n",
    "    \n",
    "print(count0/100,count1/100, count2/100)    "
   ]
  },
  {
   "cell_type": "code",
   "execution_count": 3,
   "metadata": {},
   "outputs": [
    {
     "name": "stdout",
     "output_type": "stream",
     "text": [
      "0.53 0.32 0.15\n"
     ]
    }
   ],
   "source": [
    "def sample(p):\n",
    "    X = np.random.uniform(low=0.0, high=1.0, size=100) #uniform random numbers\n",
    "    M = []\n",
    "    for i in np.nditer(X):\n",
    "       if(i <= p[0]):\n",
    "           M.append(0)\n",
    "       elif(i >p[0] and i <=p[0]+p[1]):\n",
    "        M.append(1)\n",
    "       elif(i > p[0]+p[1] and i <= p[0]+p[1]+p[2]):\n",
    "        M.append(2)\n",
    "    \n",
    "    return M \n",
    "\n",
    "n = np.array([1,2,3])\n",
    "p = np.array([.5, .3, .2])\n",
    "M = sample(p)\n",
    "\n",
    "count0 = 0\n",
    "count1 = 0\n",
    "count2 = 0\n",
    "for i in M: \n",
    "    if i ==0: count0 +=1\n",
    "    elif i ==1:count1 +=1\n",
    "    elif i==2:count2 +=1\n",
    "    \n",
    "print(count0/100,count1/100, count2/100)   "
   ]
  }
 ],
 "metadata": {
  "kernelspec": {
   "display_name": "Python 3",
   "language": "python",
   "name": "python3"
  },
  "language_info": {
   "codemirror_mode": {
    "name": "ipython",
    "version": 3
   },
   "file_extension": ".py",
   "mimetype": "text/x-python",
   "name": "python",
   "nbconvert_exporter": "python",
   "pygments_lexer": "ipython3",
   "version": "3.7.4"
  }
 },
 "nbformat": 4,
 "nbformat_minor": 2
}
