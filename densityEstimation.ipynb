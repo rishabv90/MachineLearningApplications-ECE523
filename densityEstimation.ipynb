{
 "cells": [
  {
   "cell_type": "code",
   "execution_count": 1,
   "metadata": {},
   "outputs": [
    {
     "data": {
      "text/plain": [
       "<Figure size 640x480 with 1 Axes>"
      ]
     },
     "metadata": {},
     "output_type": "display_data"
    },
    {
     "data": {
      "text/plain": [
       "<Figure size 640x480 with 1 Axes>"
      ]
     },
     "metadata": {},
     "output_type": "display_data"
    },
    {
     "data": {
      "text/plain": [
       "<Figure size 640x480 with 1 Axes>"
      ]
     },
     "metadata": {},
     "output_type": "display_data"
    },
    {
     "data": {
      "text/plain": [
       "<Figure size 640x480 with 1 Axes>"
      ]
     },
     "metadata": {},
     "output_type": "display_data"
    }
   ],
   "source": [
    "import numpy as np\n",
    "import matplotlib.pyplot as plt\n",
    "from sklearn.neighbors.kde import KernelDensity\n",
    "from math import log\n",
    "\n",
    "\n",
    "def gen_cb(N, a, alpha): \n",
    "    d = np.random.rand(N, 2).T\n",
    "    d_transformed = np.array([d[0]*np.cos(alpha)-d[1]*np.sin(alpha),d[0]*np.sin(alpha)+d[1]*np.cos(alpha)]).T\n",
    "    s = np.ceil(d_transformed[:,0]/a)+np.floor(d_transformed[:,1]/a)\n",
    "    lab = 2 - (s%2)\n",
    "    data = d.T\n",
    "    return data, lab \n",
    "\n",
    "#generate training data\n",
    "X1, y1 = gen_cb(250, .5, 0)\n",
    "plt.plot(X1[np.where(y1==1)[0], 0], X1[np.where(y1==1)[0], 1], 'o')\n",
    "plt.plot(X1[np.where(y1==2)[0], 0], X1[np.where(y1==2)[0], 1], 's', c = 'r')\n",
    "plt.show()\n",
    "\n",
    "# use gaussian kernel density estimation\n",
    "blue_kde = KernelDensity(kernel='gaussian', bandwidth=0.2).fit(X1[np.where(y1==1)])\n",
    "red_kde = KernelDensity(kernel='gaussian', bandwidth=0.2).fit(X1[np.where(y1==2)])\n",
    "n_blue = len(X1[np.where(y1==1)])\n",
    "n_red = len(X1[np.where(y1==2)])\n",
    "blue_prior = log(n_blue)-log(250)\n",
    "red_prior = log(n_red)-log(250)\n",
    "\n",
    "#generate testing data, and implement calssifier\n",
    "X2, y2 = gen_cb(5000, .5, 0)\n",
    "blue_logdensity = blue_kde.score_samples(X2)\n",
    "blue_w = blue_logdensity + blue_prior\n",
    "red_logdensity = red_kde.score_samples(X2)\n",
    "red_w = red_logdensity + red_prior\n",
    "\n",
    "i = 0\n",
    "while i < len(blue_w):\n",
    "    if blue_w[i] > red_w[i]:\n",
    "        y2[i] = 1\n",
    "    else:\n",
    "        y2[i] = 2\n",
    "    i = i + 1\n",
    "\n",
    "plt.figure()\n",
    "plt.plot(X2[np.where(y2==1)[0], 0], X2[np.where(y2==1)[0], 1], 'o')\n",
    "plt.plot(X2[np.where(y2==2)[0], 0], X2[np.where(y2==2)[0], 1], 's', c = 'r')\n",
    "plt.show()\n",
    "\n",
    "#generate training data\n",
    "X3, y3 = gen_cb(5000, .25, 3.1415/4)\n",
    "plt.figure()\n",
    "plt.plot(X3[np.where(y3==1)[0], 0], X3[np.where(y3==1)[0], 1], 'o')\n",
    "plt.plot(X3[np.where(y3==2)[0], 0], X3[np.where(y3==2)[0], 1], 's', c = 'r')\n",
    "plt.show()\n",
    "\n",
    "# use gaussian kernel density estimation\n",
    "blue_kde2 = KernelDensity(kernel='gaussian', bandwidth=0.1).fit(X3[np.where(y3==1)])\n",
    "red_kde2 = KernelDensity(kernel='gaussian', bandwidth=0.1).fit(X3[np.where(y3==2)])\n",
    "n_blue2 = len(X3[np.where(y3==1)])\n",
    "n_red2 = len(X3[np.where(y3==2)])\n",
    "blue_prior2 = log(n_blue2)-log(5000)\n",
    "red_prior2 = log(n_red2)-log(5000)\n",
    "\n",
    "#generate testing data, and implement calssifier\n",
    "X4, y4 = gen_cb(5000, .25, 3.1415/4)\n",
    "blue_logdensity2 = blue_kde2.score_samples(X4)\n",
    "blue_w2 = blue_logdensity2 + blue_prior2\n",
    "red_logdensity2 = red_kde2.score_samples(X4)\n",
    "red_w2 = red_logdensity2 + red_prior2\n",
    "\n",
    "i = 0\n",
    "while i < len(blue_w2):\n",
    "    if blue_w2[i] > red_w2[i]:\n",
    "        y4[i] = 1\n",
    "    else:\n",
    "        y4[i] = 2\n",
    "    i = i + 1\n",
    "    \n",
    "plt.figure()\n",
    "plt.plot(X4[np.where(y4==1)[0], 0], X4[np.where(y4==1)[0], 1], 'o')\n",
    "plt.plot(X4[np.where(y4==2)[0], 0], X4[np.where(y4==2)[0], 1], 's', c = 'r')\n",
    "plt.show()\n",
    "\n",
    "\n",
    "\n",
    "\n"
   ]
  },
  {
   "cell_type": "code",
   "execution_count": null,
   "metadata": {},
   "outputs": [],
   "source": []
  }
 ],
 "metadata": {
  "kernelspec": {
   "display_name": "Python 3",
   "language": "python",
   "name": "python3"
  },
  "language_info": {
   "codemirror_mode": {
    "name": "ipython",
    "version": 3
   },
   "file_extension": ".py",
   "mimetype": "text/x-python",
   "name": "python",
   "nbconvert_exporter": "python",
   "pygments_lexer": "ipython3",
   "version": "3.7.4"
  }
 },
 "nbformat": 4,
 "nbformat_minor": 2
}
