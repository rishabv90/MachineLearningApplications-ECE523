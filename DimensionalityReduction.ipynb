{
 "cells": [
  {
   "cell_type": "markdown",
   "metadata": {},
   "source": [
    "I have made a comparison between SVM and Random forest classifier. From the results below, we can clearly see the accuracy scores generated from the Random forest classifer are sginificantly better than that of a SVM classifier. \n",
    "Please find results of 10 data sets printed below along with the code implementation."
   ]
  },
  {
   "cell_type": "markdown",
   "metadata": {},
   "source": [
    "            \n",
    "Result from SVM classification of file breast-cancer.csv = 0.7762237762237763     Result from RF classification of file breast-cancer.csv = 0.951048951048951\n",
    "Result from SVM classification of file blood.csv = 0.767379679144385 Result from RF classification of file blood.csv = 0.9157754010695187\n",
    "Result from SVM classification of file flags.csv = 0.6288659793814433 Result from RF classification of file flags.csv = 1.0    Result from SVM classification of file hepatitis.csv = 0.8709677419354839 Result from RF classification of file hepatitis.csv = 0.9806451612903225    \n",
    "Result from SVM classification of file magic.csv = 0.8431125131440589 Result from RF classification of file magic.csv = 0.9885909568874869\n",
    "Result from SVM classification of file iris.csv = 0.9733333333333334 Result from RF classification of file iris.csv = 0.9933333333333333\n",
    "Result from SVM classification of file lung-cancer.csv = 0.75 Result from RF classification of file lung-cancer.csv = 1.0\n",
    "Result from SVM classification of file nursery.csv = 0.976929012345679 Result from RF classification of file nursery.csv = 1.0\n",
    "Result from SVM classification of file parkinsons.csv = 0.8666666666666667 Result from RF classification of file parkinsons.csv = 0.9897435897435898\n",
    "Result from SVM classification of file pima.csv = 0.78125 Result from RF classification of file pima.csv = 0.9765625\n"
   ]
  },
  {
   "cell_type": "code",
   "execution_count": 53,
   "metadata": {},
   "outputs": [],
   "source": [
    "import numpy as np\n",
    "from sklearn.naive_bayes import GaussianNB\n",
    "from sklearn.model_selection import cross_val_score\n",
    "import warnings\n",
    "warnings.filterwarnings('ignore')\n",
    "from sklearn.svm import SVC as SVM\n",
    "from sklearn.metrics import accuracy_score\n",
    "from sklearn.ensemble import RandomForestClassifier as RF"
   ]
  },
  {
   "cell_type": "code",
   "execution_count": 54,
   "metadata": {},
   "outputs": [
    {
     "name": "stdout",
     "output_type": "stream",
     "text": [
      "Result from SVM classification of file breast-cancer.csv = 0.7762237762237763\n",
      "Result from RF classification of file breast-cancer.csv = 0.951048951048951\n"
     ]
    }
   ],
   "source": [
    "\n",
    "def classifySVM(features, labels, fileName):\n",
    "    \n",
    "    classify = SVM()\n",
    "    classify.fit(features, labels)\n",
    "    predict = classify.predict(features)\n",
    "    ans = accuracy_score(labels, predict)\n",
    "    print(\"Result from SVM classification of file \"+ fileName[20:] + \" = \" + str(ans))\n",
    "    \n",
    "def classifyRF(features, labels, fileName):\n",
    "    classify = RF()\n",
    "    classify.fit(features, labels)\n",
    "    predict = classify.predict(features)\n",
    "    ans = accuracy_score(labels, predict)\n",
    "    print(\"Result from RF classification of file \"+ fileName[20:] + \" = \" + str(ans))\n",
    "    \n",
    "def loadFile(file):\n",
    "   \n",
    "    fileData = np.loadtxt(file, dtype = float, delimiter =',')\n",
    "    minmax = preprocessing.MinMaxScaler(feature_range=(-1, 1))\n",
    "    f = fileData[:, :-1]\n",
    "    f = minmax.fit_transform(f)\n",
    "    l = fileData[:, -1]\n",
    "    classifySVM(f,l, file)\n",
    "    classifyRF(f,l,file)\n",
    "\n",
    "file = '../523testData/data/breast-cancer.csv'\n",
    "loadFile(file)\n"
   ]
  },
  {
   "cell_type": "code",
   "execution_count": 61,
   "metadata": {},
   "outputs": [
    {
     "name": "stdout",
     "output_type": "stream",
     "text": [
      "Result from SVM classification of file blood.csv = 0.767379679144385\n",
      "Result from RF classification of file blood.csv = 0.9157754010695187\n"
     ]
    }
   ],
   "source": [
    "file = '../523testData/data/blood.csv'\n",
    "loadFile(file)"
   ]
  },
  {
   "cell_type": "code",
   "execution_count": 63,
   "metadata": {},
   "outputs": [
    {
     "name": "stdout",
     "output_type": "stream",
     "text": [
      "Result from SVM classification of file flags.csv = 0.6288659793814433\n",
      "Result from RF classification of file flags.csv = 1.0\n"
     ]
    }
   ],
   "source": [
    "file = '../523testData/data/flags.csv'\n",
    "loadFile(file)"
   ]
  },
  {
   "cell_type": "code",
   "execution_count": 64,
   "metadata": {},
   "outputs": [
    {
     "name": "stdout",
     "output_type": "stream",
     "text": [
      "Result from SVM classification of file hepatitis.csv = 0.8709677419354839\n",
      "Result from RF classification of file hepatitis.csv = 0.9806451612903225\n"
     ]
    }
   ],
   "source": [
    "file = '../523testData/data/hepatitis.csv'\n",
    "loadFile(file)"
   ]
  },
  {
   "cell_type": "code",
   "execution_count": 65,
   "metadata": {},
   "outputs": [
    {
     "name": "stdout",
     "output_type": "stream",
     "text": [
      "Result from SVM classification of file magic.csv = 0.8431125131440589\n",
      "Result from RF classification of file magic.csv = 0.9885909568874869\n"
     ]
    }
   ],
   "source": [
    "file = '../523testData/data/magic.csv'\n",
    "loadFile(file)"
   ]
  },
  {
   "cell_type": "code",
   "execution_count": 66,
   "metadata": {},
   "outputs": [
    {
     "name": "stdout",
     "output_type": "stream",
     "text": [
      "Result from SVM classification of file iris.csv = 0.9733333333333334\n",
      "Result from RF classification of file iris.csv = 0.9933333333333333\n"
     ]
    }
   ],
   "source": [
    "file = '../523testData/data/iris.csv'\n",
    "loadFile(file)"
   ]
  },
  {
   "cell_type": "code",
   "execution_count": 67,
   "metadata": {},
   "outputs": [
    {
     "name": "stdout",
     "output_type": "stream",
     "text": [
      "Result from SVM classification of file lung-cancer.csv = 0.75\n",
      "Result from RF classification of file lung-cancer.csv = 1.0\n"
     ]
    }
   ],
   "source": [
    "file = '../523testData/data/lung-cancer.csv'\n",
    "loadFile(file)"
   ]
  },
  {
   "cell_type": "code",
   "execution_count": 68,
   "metadata": {},
   "outputs": [
    {
     "name": "stdout",
     "output_type": "stream",
     "text": [
      "Result from SVM classification of file nursery.csv = 0.976929012345679\n",
      "Result from RF classification of file nursery.csv = 1.0\n"
     ]
    }
   ],
   "source": [
    "file = '../523testData/data/nursery.csv'\n",
    "loadFile(file)"
   ]
  },
  {
   "cell_type": "code",
   "execution_count": 70,
   "metadata": {},
   "outputs": [
    {
     "name": "stdout",
     "output_type": "stream",
     "text": [
      "Result from SVM classification of file parkinsons.csv = 0.8666666666666667\n",
      "Result from RF classification of file parkinsons.csv = 0.9897435897435898\n"
     ]
    }
   ],
   "source": [
    "file = '../523testData/data/parkinsons.csv'\n",
    "loadFile(file)"
   ]
  },
  {
   "cell_type": "code",
   "execution_count": 71,
   "metadata": {},
   "outputs": [
    {
     "name": "stdout",
     "output_type": "stream",
     "text": [
      "Result from SVM classification of file pima.csv = 0.78125\n",
      "Result from RF classification of file pima.csv = 0.9765625\n"
     ]
    }
   ],
   "source": [
    "file = '../523testData/data/pima.csv'\n",
    "loadFile(file)"
   ]
  },
  {
   "cell_type": "code",
   "execution_count": null,
   "metadata": {},
   "outputs": [],
   "source": []
  }
 ],
 "metadata": {
  "kernelspec": {
   "display_name": "Python 3",
   "language": "python",
   "name": "python3"
  },
  "language_info": {
   "codemirror_mode": {
    "name": "ipython",
    "version": 3
   },
   "file_extension": ".py",
   "mimetype": "text/x-python",
   "name": "python",
   "nbconvert_exporter": "python",
   "pygments_lexer": "ipython3",
   "version": "3.7.4"
  }
 },
 "nbformat": 4,
 "nbformat_minor": 2
}
