{
 "cells": [
  {
   "cell_type": "markdown",
   "metadata": {},
   "source": [
    "Used wilcoxon function which was provided in piazza. \n",
    "After failing to under the functionality, I used the advice given by prof. \n",
    "Made 2 random variable X1 & X2 and gave it user defined values to see what the P values really mean. \n",
    "Then, carried out comparisons between each of the six classifiers using p values when alternative set to greater.\n",
    "Classfier 5 and 6 come out to be the better ones. \n"
   ]
  },
  {
   "cell_type": "code",
   "execution_count": 27,
   "metadata": {},
   "outputs": [
    {
     "name": "stdout",
     "output_type": "stream",
     "text": [
      "27\n"
     ]
    }
   ],
   "source": [
    "import numpy as np\n",
    "\n",
    "file = 'hw1-scores.txt'\n",
    "fileData = np.loadtxt(file, dtype = float, delimiter =',')\n",
    "\n",
    "#create indivisual classifierData\n",
    "c0=[]\n",
    "c1=[]\n",
    "c2=[]\n",
    "c3=[]\n",
    "c4=[]\n",
    "c5=[]\n",
    "\n",
    "for x in fileData:\n",
    "    c0.append(x[0])\n",
    "    c1.append(x[1])\n",
    "    c2.append(x[2])\n",
    "    c3.append(x[3])\n",
    "    c4.append(x[4])\n",
    "    c5.append(x[5])\n",
    "    \n",
    "print(len(c0))    "
   ]
  },
  {
   "cell_type": "code",
   "execution_count": 33,
   "metadata": {},
   "outputs": [
    {
     "name": "stdout",
     "output_type": "stream",
     "text": [
      "1) c0 VS c1  w = 74.0 p = 0.005729472399915602\n",
      "2) c1 VS c2  w = 146.0 p = 0.45369416191197165\n",
      "3) c2 VS c3  w = 144.5 p = 0.6281401021105051\n",
      "4) c3 VS c4  w = 58.0 p = 0.001647999596728128\n",
      "5) c4 VS c5  w = 133.0 p = 0.17849611324735748\n"
     ]
    }
   ],
   "source": [
    "from scipy.stats import wilcoxon\n",
    "\n",
    "w,p = wilcoxon(c0, c1, alternative = 'two-sided')\n",
    "print(\"1) c0 VS c1  w = \" + str(w) + \" p = \" + str(p))\n",
    "\n",
    "w,p = wilcoxon(c1, c2, alternative = 'two-sided')\n",
    "print(\"2) c1 VS c2  w = \" + str(w) + \" p = \" + str(p))\n",
    "\n",
    "w,p = wilcoxon(c2, c3, alternative = 'two-sided')\n",
    "print(\"3) c2 VS c3  w = \" + str(w) + \" p = \" + str(p))\n",
    "\n",
    "w,p = wilcoxon(c3, c4, alternative = 'two-sided')\n",
    "print(\"4) c3 VS c4  w = \" + str(w) + \" p = \" + str(p))\n",
    "\n",
    "w,p = wilcoxon(c4, c5, alternative = 'two-sided')\n",
    "print(\"5) c4 VS c5  w = \" + str(w) + \" p = \" + str(p))"
   ]
  },
  {
   "cell_type": "code",
   "execution_count": 42,
   "metadata": {},
   "outputs": [
    {
     "name": "stdout",
     "output_type": "stream",
     "text": [
      "1) X1 VS X2  w = 0.0 p = 0.9999971969417363\n"
     ]
    }
   ],
   "source": [
    "#used to understand Wilcoxon\n",
    "mu, sigma = 50, 5\n",
    "X1 = np.random.normal(mu, sigma, 27)\n",
    "mu1, sigma1 = 75, 5\n",
    "X2 = np.random.normal(mu1, sigma1, 27)\n",
    "\n",
    "w,p = wilcoxon(X1, X2, alternative = 'greater')\n",
    "print(\"1) X1 VS X2  w = \" + str(w) + \" p = \" + str(p))"
   ]
  },
  {
   "cell_type": "code",
   "execution_count": 43,
   "metadata": {},
   "outputs": [
    {
     "name": "stdout",
     "output_type": "stream",
     "text": [
      "1) c0 VS c1  w = 304.0 p = 0.002864736199957801\n",
      "2) c0 VS c2  w = 293.0 p = 0.0014213147290391308\n",
      "3) c0 VS c3  w = 297.0 p = 0.0010148414769008633\n",
      "4) c0 VS c4  w = 96.0 p = 0.9782636228221829\n",
      "5) c0 VS c5  w = 102.0 p = 0.9816989549104347\n"
     ]
    }
   ],
   "source": [
    "\n",
    "w,p = wilcoxon(c0, c1, alternative = 'greater')\n",
    "print(\"1) c0 VS c1  w = \" + str(w) + \" p = \" + str(p))\n",
    "\n",
    "w,p = wilcoxon(c0, c2, alternative = 'greater')\n",
    "print(\"2) c0 VS c2  w = \" + str(w) + \" p = \" + str(p))\n",
    "\n",
    "w,p = wilcoxon(c0, c3, alternative = 'greater')\n",
    "print(\"3) c0 VS c3  w = \" + str(w) + \" p = \" + str(p))\n",
    "\n",
    "w,p = wilcoxon(c0, c4, alternative = 'greater')\n",
    "print(\"4) c0 VS c4  w = \" + str(w) + \" p = \" + str(p))\n",
    "\n",
    "w,p = wilcoxon(c0, c5, alternative = 'greater')\n",
    "print(\"5) c0 VS c5  w = \" + str(w) + \" p = \" + str(p))"
   ]
  },
  {
   "cell_type": "code",
   "execution_count": 44,
   "metadata": {},
   "outputs": [
    {
     "name": "stdout",
     "output_type": "stream",
     "text": [
      "1) c1 VS c0  w = 74.0 p = 0.9971352638000422\n",
      "2) c1 VS c2  w = 146.0 p = 0.7731529190440142\n",
      "3) c1 VS c3  w = 151.0 p = 0.7331113990167323\n",
      "4) c1 VS c4  w = 47.0 p = 0.9996771723446642\n",
      "5) c1 VS c5  w = 48.0 p = 0.9996475254444666\n"
     ]
    }
   ],
   "source": [
    "\n",
    "w,p = wilcoxon(c1, c0, alternative = 'greater')\n",
    "print(\"1) c1 VS c0  w = \" + str(w) + \" p = \" + str(p))\n",
    "\n",
    "w,p = wilcoxon(c1, c2, alternative = 'greater')\n",
    "print(\"2) c1 VS c2  w = \" + str(w) + \" p = \" + str(p))\n",
    "\n",
    "w,p = wilcoxon(c1, c3, alternative = 'greater')\n",
    "print(\"3) c1 VS c3  w = \" + str(w) + \" p = \" + str(p))\n",
    "\n",
    "w,p = wilcoxon(c1, c4, alternative = 'greater')\n",
    "print(\"4) c1 VS c4  w = \" + str(w) + \" p = \" + str(p))\n",
    "\n",
    "w,p = wilcoxon(c1, c5, alternative = 'greater')\n",
    "print(\"5) c1 VS c5  w = \" + str(w) + \" p = \" + str(p))"
   ]
  },
  {
   "cell_type": "code",
   "execution_count": null,
   "metadata": {},
   "outputs": [],
   "source": [
    "\n",
    "w,p = wilcoxon(c2, c1, alternative = 'greater')\n",
    "print(\"1) c0 VS c1  w = \" + str(w) + \" p = \" + str(p))\n",
    "\n",
    "w,p = wilcoxon(c0, c2, alternative = 'greater')\n",
    "print(\"2) c0 VS c2  w = \" + str(w) + \" p = \" + str(p))\n",
    "\n",
    "w,p = wilcoxon(c0, c3, alternative = 'greater')\n",
    "print(\"3) c0 VS c3  w = \" + str(w) + \" p = \" + str(p))\n",
    "\n",
    "w,p = wilcoxon(c0, c4, alternative = 'greater')\n",
    "print(\"4) c0 VS c4  w = \" + str(w) + \" p = \" + str(p))\n",
    "\n",
    "w,p = wilcoxon(c0, c5, alternative = 'greater')\n",
    "print(\"5) c0 VS c5  w = \" + str(w) + \" p = \" + str(p))"
   ]
  }
 ],
 "metadata": {
  "kernelspec": {
   "display_name": "Python 3",
   "language": "python",
   "name": "python3"
  },
  "language_info": {
   "codemirror_mode": {
    "name": "ipython",
    "version": 3
   },
   "file_extension": ".py",
   "mimetype": "text/x-python",
   "name": "python",
   "nbconvert_exporter": "python",
   "pygments_lexer": "ipython3",
   "version": "3.7.4"
  }
 },
 "nbformat": 4,
 "nbformat_minor": 2
}
