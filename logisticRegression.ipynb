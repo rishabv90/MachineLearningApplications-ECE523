{
 "cells": [
  {
   "cell_type": "code",
   "execution_count": 133,
   "metadata": {},
   "outputs": [
    {
     "name": "stdout",
     "output_type": "stream",
     "text": [
      "[[ 1.        -0.927278   7.61825    7.61825    2.61388  ]\n",
      " [ 1.        -1.17433    1.28188    1.28188   -0.257708 ]\n",
      " [ 1.        -1.05081    1.79564    1.79564    0.0294508]\n",
      " ...\n",
      " [ 1.         1.66679   -0.430651  -0.430651   1.13707  ]\n",
      " [ 1.         3.64322   -0.773158  -0.773158   0.193542 ]\n",
      " [ 1.         7.71961   -0.773158  -0.773158   1.54729  ]]\n"
     ]
    }
   ],
   "source": [
    "import numpy as np\n",
    "from math import exp\n",
    "\n",
    "data = np.genfromtxt('../523testData/data/blood.csv', delimiter = ',')\n",
    "\n",
    "X = data[:, 0:-1]\n",
    "\n",
    "X0 = np.ones((len(X[:,1]),1))\n",
    "X = np.hstack((X0, X))\n",
    "y = data[:, -1]\n",
    "\n",
    "print(X)"
   ]
  },
  {
   "cell_type": "code",
   "execution_count": 156,
   "metadata": {},
   "outputs": [
    {
     "name": "stdout",
     "output_type": "stream",
     "text": [
      "5\n",
      "[ 0.03784873 -0.03509629  0.28834107  0.28834107  0.09893203]\n"
     ]
    }
   ],
   "source": [
    "\n",
    "lmb = 0.01\n",
    "\n",
    "n = len(X[0])\n",
    "\n",
    "print(n)\n",
    "def predict(row, w):\n",
    "    return 1/(1 + exp((-1*((np.dot(w, row))))))\n",
    "\n",
    "w_new = [0]*n\n",
    "\n",
    "\n",
    "def LR(data, w_new):\n",
    "    for m in range(0, 500): \n",
    "        for i in range(0, int(len(data)*1)):\n",
    "            #print((len(data)*1))\n",
    "            w_old = w_new\n",
    "            \n",
    "            y_p = predict(X[i], w_old)\n",
    "            \n",
    "            w_new = w_old + (lmb*(y[i] - y_p)*X[i])\n",
    "            \n",
    "            w = w_new - w_old\n",
    "            \n",
    "            if(np.sum(np.power(w, 2))<0.000001):\n",
    "            \n",
    "               return(w_new)\n",
    "            break\n",
    "w_new = LR(data, w_new)\n",
    "print(w_new)"
   ]
  },
  {
   "cell_type": "code",
   "execution_count": 128,
   "metadata": {},
   "outputs": [
    {
     "name": "stdout",
     "output_type": "stream",
     "text": [
      "[ 7.99997804e-06 -7.41820364e-06  6.09458327e-05  6.09458327e-05\n",
      "  2.09109826e-05]\n"
     ]
    }
   ],
   "source": [
    "#Rishab Verma\n",
    "#17th Feb 2020\n",
    "\n",
    "import numpy as np\n",
    "file = '../523testData/data/blood.csv'\n",
    "fileData = np.loadtxt(file, dtype = float, delimiter =',')\n",
    "\n",
    "\n",
    "features = fileData[:, 0:-1] # X\n",
    "labels = fileData[:,-1] #Y \n",
    "alpha = 0.001;\n",
    "ones = np.ones((len(features[:,1]),1))\n",
    "weight = np.hstack((ones,features))\n",
    "numfeatures = len(weight[0])\n",
    "zeros = [0]*(num)\n",
    "\n",
    "\n",
    "for i in range(0,1000):\n",
    "    for j in range(0,len(fileData)):\n",
    "        weightNew = zeros\n",
    "        predictedVal = 1/(1+exp((-1*((np.dot(weightNew, weight[j]))))))\n",
    "        zeros = weightNew + (alpha * (labels[j] - predictedVal)*weight[j])\n",
    "        \n",
    "        \n",
    "        finalWeight = zeros-weightNew\n",
    "        if(np.sum(np.power(finalWeight, 2))<0.000001):    \n",
    "            break\n",
    "print(finalWeight)            "
   ]
  },
  {
   "cell_type": "code",
   "execution_count": null,
   "metadata": {},
   "outputs": [],
   "source": []
  }
 ],
 "metadata": {
  "kernelspec": {
   "display_name": "Python 3",
   "language": "python",
   "name": "python3"
  },
  "language_info": {
   "codemirror_mode": {
    "name": "ipython",
    "version": 3
   },
   "file_extension": ".py",
   "mimetype": "text/x-python",
   "name": "python",
   "nbconvert_exporter": "python",
   "pygments_lexer": "ipython3",
   "version": "3.7.4"
  }
 },
 "nbformat": 4,
 "nbformat_minor": 2
}
