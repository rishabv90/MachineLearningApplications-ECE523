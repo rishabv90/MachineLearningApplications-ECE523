{
 "cells": [
  {
   "cell_type": "code",
   "execution_count": 4,
   "metadata": {},
   "outputs": [],
   "source": [
    "#Rishab Verma 4/7/2020\n",
    "#MultiLayer perceptron"
   ]
  },
  {
   "cell_type": "code",
   "execution_count": 105,
   "metadata": {},
   "outputs": [
    {
     "name": "stdout",
     "output_type": "stream",
     "text": [
      "Extracting MNIST_data/train-images-idx3-ubyte.gz\n",
      "Extracting MNIST_data/train-labels-idx1-ubyte.gz\n",
      "Extracting MNIST_data/t10k-images-idx3-ubyte.gz\n",
      "Extracting MNIST_data/t10k-labels-idx1-ubyte.gz\n"
     ]
    }
   ],
   "source": [
    "import tensorflow as tf\n",
    "from tensorflow.examples.tutorials.mnist import input_data\n",
    "mnist = input_data.read_data_sets(\"MNIST_data/\", one_hot=True)\n"
   ]
  },
  {
   "cell_type": "code",
   "execution_count": 106,
   "metadata": {},
   "outputs": [],
   "source": [
    "lables = 10 #0 - 9\n",
    "inputNodes = 784 # input pixels as input nodes\n",
    "learningRate = 0.01 #play with changing this\n",
    "batchSize = 100\n",
    "batch = int(mnist.train.num_examples / batchSize)"
   ]
  },
  {
   "cell_type": "code",
   "execution_count": 107,
   "metadata": {},
   "outputs": [],
   "source": [
    "\n",
    "#hiddenLayer1 = 50\n",
    "hiddenLayer2 = 250\n",
    "\n",
    "\n",
    "x = tf.placeholder(\"float\", [None, inputNodes]) #X\n",
    "y = tf.placeholder(\"float\", [None, labels]) # Y\n",
    "weight1 = tf.Variable(tf.random_normal([inputNodes, hiddenLayer2]))\n",
    "weight2 = tf.Variable(tf.random_normal([hiddenLayer2, labels]))\n",
    "bias1 = tf.Variable(tf.random_normal([hiddenLayer2]))\n",
    "bias2 = tf.Variable(tf.random_normal([labels]))\n",
    "layer1 = tf.nn.relu(tf.matmul(x, weight1) + bias1)\n",
    "layer2 = tf.matmul(layer1, weight2) + bias2\n",
    "#no reg\n",
    "#cost = tf.reduce_mean(tf.nn.softmax_cross_entropy_with_logits(logits=layer2, labels=y))\n",
    "#Optimize = tf.train.AdamOptimizer(learning_rate=learningRate).minimize(cost)\n",
    "#with regularization\n",
    "cost = tf.reduce_mean(tf.nn.softmax_cross_entropy_with_logits(logits=layer2, labels=y) + learningRate * tf.nn.l2_loss(weight2))\n",
    "Optimize = tf.train.AdamOptimizer(learning_rate=learningRate).minimize(cost)\n",
    "#print(cost)"
   ]
  },
  {
   "cell_type": "code",
   "execution_count": 108,
   "metadata": {},
   "outputs": [
    {
     "name": "stdout",
     "output_type": "stream",
     "text": [
      "250HLN+no regularization ----- Train Error =  0.0212363600730896\n",
      "250HLN+no regularization ----- Test Error =  0.03549998998641968\n"
     ]
    }
   ],
   "source": [
    "initialize = tf.global_variables_initializer()\n",
    "with tf.Session() as sess:\n",
    "        sess.run(initialize)\n",
    "        for i in range(0,10):\n",
    "            for j in range(0,batch):\n",
    "                batchX, batchY = mnist.train.next_batch(batchSize)\n",
    "                newOptimizer, newCost = sess.run([Optimize, cost], feed_dict={x: batchX, y: batchY})\n",
    "                \n",
    "        prediction = tf.equal(tf.argmax(layer2, 1), tf.argmax(y, 1))\n",
    "        accuracy = tf.reduce_mean(tf.cast(prediction, \"float\"))          \n",
    "        print(str(hiddenLayer2)+\"HLN+no regularization ----- Train Error = \", 1 - (accuracy.eval({x: mnist.train.images, y: mnist.train.labels})))\n",
    "        print(str(hiddenLayer2)+\"HLN+no regularization ----- Test Error = \", 1 - (accuracy.eval({x: mnist.test.images, y: mnist.test.labels})))        "
   ]
  },
  {
   "cell_type": "code",
   "execution_count": 110,
   "metadata": {},
   "outputs": [],
   "source": [
    "#Result1\n",
    "50HLN+no regularization ----- Train Error =  0.036527276039123535\n",
    "50HLN+no regularization ----- Test Error =  0.05089998245239258"
   ]
  },
  {
   "cell_type": "code",
   "execution_count": null,
   "metadata": {},
   "outputs": [],
   "source": [
    "#Result2\n",
    "50HLN+L2 regularization ----- Train Error =  0.03150910139083862\n",
    "50HLN+L2 regularization ----- Test Error =  0.04210001230239868"
   ]
  },
  {
   "cell_type": "code",
   "execution_count": null,
   "metadata": {},
   "outputs": [],
   "source": [
    "#Result3\n",
    "250HLN+L2 regularization ----- Train Error =  0.02210909128189087\n",
    "250HLN+L2 regularization ----- Test Error =  0.037100017070770264"
   ]
  },
  {
   "cell_type": "code",
   "execution_count": null,
   "metadata": {},
   "outputs": [],
   "source": [
    "#Result4\n",
    "250HLN+no regularization ----- Train Error =  0.013163626194000244\n",
    "250HLN+no regularization ----- Test Error =  0.035899996757507324"
   ]
  }
 ],
 "metadata": {
  "kernelspec": {
   "display_name": "Python 3",
   "language": "python",
   "name": "python3"
  },
  "language_info": {
   "codemirror_mode": {
    "name": "ipython",
    "version": 3
   },
   "file_extension": ".py",
   "mimetype": "text/x-python",
   "name": "python",
   "nbconvert_exporter": "python",
   "pygments_lexer": "ipython3",
   "version": "3.7.4"
  }
 },
 "nbformat": 4,
 "nbformat_minor": 2
}
