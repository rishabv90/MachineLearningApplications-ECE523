{
 "cells": [
  {
   "cell_type": "code",
   "execution_count": 6,
   "metadata": {},
   "outputs": [],
   "source": [
    "import numpy as np\n",
    "from sklearn.naive_bayes import GaussianNB\n",
    "from sklearn.model_selection import cross_val_score\n",
    "\n",
    "#followed an online tutorial for cross val score . created features and labels , then fed data to gnb"
   ]
  },
  {
   "cell_type": "code",
   "execution_count": 7,
   "metadata": {},
   "outputs": [
    {
     "name": "stdout",
     "output_type": "stream",
     "text": [
      "0.8059782608695653\n"
     ]
    }
   ],
   "source": [
    "file = 'spambase_train.csv'\n",
    "fileData = np.loadtxt(file, dtype = float, delimiter =',')\n",
    "\n",
    "features = fileData[0:3680,0:57]\n",
    "labels = fileData[0:3680,-1]\n",
    "# print(label.shape)\n",
    "# print(features.shape)\n",
    "gnbClassifier = GaussianNB()\n",
    "folds = 5\n",
    "\n",
    "crossVal = cross_val_score(gnbClassifier, features, labels, cv = folds)\n",
    "\n",
    "sum=0\n",
    "for x in crossVal:\n",
    "    sum+=x\n",
    "print(sum/folds)\n"
   ]
  }
 ],
 "metadata": {
  "kernelspec": {
   "display_name": "Python 3",
   "language": "python",
   "name": "python3"
  },
  "language_info": {
   "codemirror_mode": {
    "name": "ipython",
    "version": 3
   },
   "file_extension": ".py",
   "mimetype": "text/x-python",
   "name": "python",
   "nbconvert_exporter": "python",
   "pygments_lexer": "ipython3",
   "version": "3.7.4"
  }
 },
 "nbformat": 4,
 "nbformat_minor": 2
}
